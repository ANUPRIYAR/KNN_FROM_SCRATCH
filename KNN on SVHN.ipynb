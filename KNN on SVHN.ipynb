{
 "cells": [
  {
   "cell_type": "markdown",
   "metadata": {
    "colab_type": "text",
    "id": "7B4Bb9o1gm5w"
   },
   "source": [
    "### KNN on SVHN"
   ]
  },
  {
   "cell_type": "markdown",
   "metadata": {
    "colab_type": "text",
    "id": "i4gW02-ugm5y"
   },
   "source": [
    "#### Import the data from drive"
   ]
  },
  {
   "cell_type": "code",
   "execution_count": 0,
   "metadata": {
    "colab": {},
    "colab_type": "code",
    "id": "7PQW3E1ugm50"
   },
   "outputs": [],
   "source": [
    "import warnings \n",
    "warnings.filterwarnings('ignore')\n",
    "import numpy as np\n",
    "np.seterr(over='ignore')\n",
    "import os\n",
    "import matplotlib.pyplot as plt"
   ]
  },
  {
   "cell_type": "markdown",
   "metadata": {
    "colab_type": "text",
    "id": "vCEJLbi7dw_E"
   },
   "source": []
  },
  {
   "cell_type": "code",
   "execution_count": 0,
   "metadata": {
    "colab": {
     "base_uri": "https://localhost:8080/",
     "height": 34
    },
    "colab_type": "code",
    "id": "n3iRxEpFgm56",
    "outputId": "78068cb0-f534-4a22-a393-f47af0789618"
   },
   "outputs": [
    {
     "name": "stdout",
     "output_type": "stream",
     "text": [
      "Drive already mounted at /content/drive; to attempt to forcibly remount, call drive.mount(\"/content/drive\", force_remount=True).\n"
     ]
    }
   ],
   "source": [
    "from google.colab import drive\n",
    "drive.mount('/content/drive')"
   ]
  },
  {
   "cell_type": "code",
   "execution_count": 0,
   "metadata": {
    "colab": {
     "base_uri": "https://localhost:8080/",
     "height": 51
    },
    "colab_type": "code",
    "id": "JqTh5Tt2gm5-",
    "outputId": "d86fb00c-392b-4200-e97e-bb6f803bb91e",
    "scrolled": true
   },
   "outputs": [
    {
     "name": "stdout",
     "output_type": "stream",
     "text": [
      "Training set (42000, 1024) (42000,)\n",
      "Test set (18000, 1024) (18000,)\n"
     ]
    }
   ],
   "source": [
    "import h5py\n",
    "import numpy as np\n",
    "\n",
    "# Open the file as readonly\n",
    "h5f = h5py.File('/content/drive/My Drive/DLCP/Project-1/Data/SVHN_single_grey1.h5', 'r')\n",
    "\n",
    "# Load the training, test and validation set\n",
    "x_train = h5f['X_train'][:]\n",
    "y_train = h5f['y_train'][:]\n",
    "x_test = h5f['X_test'][:]\n",
    "y_test = h5f['y_test'][:]\n",
    "\n",
    "\n",
    "# Close this file\n",
    "h5f.close()\n",
    "\n",
    "x_train = x_train.reshape(x_train.shape[0], 1024)\n",
    "x_test = x_test.reshape(x_test.shape[0], 1024)\n",
    "\n",
    "# # normalize inputs from 0-255 to 0-1\n",
    "x_train = x_train / 255.0\n",
    "x_test = x_test / 255.0\n",
    "\n",
    "print('Training set', x_train.shape, y_train.shape)\n",
    "print('Test set', x_test.shape, y_test.shape)"
   ]
  },
  {
   "cell_type": "code",
   "execution_count": 0,
   "metadata": {
    "colab": {
     "base_uri": "https://localhost:8080/",
     "height": 51
    },
    "colab_type": "code",
    "id": "yq2DQbVQgm6I",
    "outputId": "0eec84ef-0113-444e-a7aa-a49b78518a67"
   },
   "outputs": [
    {
     "name": "stdout",
     "output_type": "stream",
     "text": [
      "(42000, 1024)\n",
      "(42000,)\n"
     ]
    }
   ],
   "source": [
    "print(x_train.shape)\n",
    "print(y_train.shape)"
   ]
  },
  {
   "cell_type": "code",
   "execution_count": 0,
   "metadata": {
    "colab": {
     "base_uri": "https://localhost:8080/",
     "height": 51
    },
    "colab_type": "code",
    "id": "c0_Bd_97gm6O",
    "outputId": "b0941625-d81c-4902-ba5d-d7da4cde1f7e",
    "scrolled": true
   },
   "outputs": [
    {
     "name": "stdout",
     "output_type": "stream",
     "text": [
      "(18000, 1024)\n",
      "(18000,)\n"
     ]
    }
   ],
   "source": [
    "print(x_test.shape)\n",
    "print(y_test.shape)"
   ]
  },
  {
   "cell_type": "markdown",
   "metadata": {
    "colab_type": "text",
    "id": "RSvE7xQGgm6T"
   },
   "source": [
    "### Visualizing the first 10 images in the dataset and their labels"
   ]
  },
  {
   "cell_type": "code",
   "execution_count": 0,
   "metadata": {
    "colab": {
     "base_uri": "https://localhost:8080/",
     "height": 1607
    },
    "colab_type": "code",
    "id": "BTuwTICsgm6U",
    "outputId": "3336b896-8382-4539-dbd2-6b8689e5360d"
   },
   "outputs": [
    {
     "data": {
      "image/png": "[encoded data removed]",
      "text/plain": [
       "<Figure size 144x144 with 1 Axes>"
      ]
     },
     "metadata": {
      "tags": []
     },
     "output_type": "display_data"
    },
    {
     "name": "stdout",
     "output_type": "stream",
     "text": [
      "Label:6\n"
     ]
    },
    {
     "data": {
      "image/png": "[encoded data removed]",
      "text/plain": [
       "<Figure size 144x144 with 1 Axes>"
      ]
     },
     "metadata": {
      "tags": []
     },
     "output_type": "display_data"
    },
    {
     "name": "stdout",
     "output_type": "stream",
     "text": [
      "Label:7\n"
     ]
    },
    {
     "data": {
      "image/png": "[encoded data removed]",
      "text/plain": [
       "<Figure size 144x144 with 1 Axes>"
      ]
     },
     "metadata": {
      "tags": []
     },
     "output_type": "display_data"
    },
    {
     "name": "stdout",
     "output_type": "stream",
     "text": [
      "Label:4\n"
     ]
    },
    {
     "data": {
      "image/png": "[encoded data removed]",
      "text/plain": [
       "<Figure size 144x144 with 1 Axes>"
      ]
     },
     "metadata": {
      "tags": []
     },
     "output_type": "display_data"
    },
    {
     "name": "stdout",
     "output_type": "stream",
     "text": [
      "Label:4\n"
     ]
    },
    {
     "data": {
      "image/png": "[encoded data removed]",
      "text/plain": [
       "<Figure size 144x144 with 1 Axes>"
      ]
     },
     "metadata": {
      "tags": []
     },
     "output_type": "display_data"
    },
    {
     "name": "stdout",
     "output_type": "stream",
     "text": [
      "Label:0\n"
     ]
    },
    {
     "data": {
      "image/png": "[encoded data removed]",
      "text/plain": [
       "<Figure size 144x144 with 1 Axes>"
      ]
     },
     "metadata": {
      "tags": []
     },
     "output_type": "display_data"
    },
    {
     "name": "stdout",
     "output_type": "stream",
     "text": [
      "Label:3\n"
     ]
    },
    {
     "data": {
      "image/png": "[encoded data removed]",
      "text/plain": [
       "<Figure size 144x144 with 1 Axes>"
      ]
     },
     "metadata": {
      "tags": []
     },
     "output_type": "display_data"
    },
    {
     "name": "stdout",
     "output_type": "stream",
     "text": [
      "Label:0\n"
     ]
    },
    {
     "data": {
      "image/png": "[encoded data removed]",
      "text/plain": [
       "<Figure size 144x144 with 1 Axes>"
      ]
     },
     "metadata": {
      "tags": []
     },
     "output_type": "display_data"
    },
    {
     "name": "stdout",
     "output_type": "stream",
     "text": [
      "Label:7\n"
     ]
    },
    {
     "data": {
      "image/png": "[encoded data removed]",
      "text/plain": [
       "<Figure size 144x144 with 1 Axes>"
      ]
     },
     "metadata": {
      "tags": []
     },
     "output_type": "display_data"
    },
    {
     "name": "stdout",
     "output_type": "stream",
     "text": [
      "Label:3\n"
     ]
    },
    {
     "data": {
      "image/png": "[encoded data removed]",
      "text/plain": [
       "<Figure size 144x144 with 1 Axes>"
      ]
     },
     "metadata": {
      "tags": []
     },
     "output_type": "display_data"
    },
    {
     "name": "stdout",
     "output_type": "stream",
     "text": [
      "Label:1\n"
     ]
    }
   ],
   "source": [
    "# Reshape the array\n",
    "new_xtrain = x_train.reshape((x_train.shape[0], 32, 32))\n",
    "\n",
    "# To display first 10 images from Training set along with their labels\n",
    "for i in range(1,11):\n",
    "  fig = plt.figure(figsize=(2,2))\n",
    "  img = new_xtrain[i]\n",
    "  plt.imshow(img, interpolation='nearest', cmap='Blues_r')\n",
    "  plt.show()\n",
    "  print(\"Label:{}\".format(y_train[i]))\n",
    "\n"
   ]
  },
  {
   "cell_type": "markdown",
   "metadata": {
    "colab_type": "text",
    "id": "YguohdV1gm6Y"
   },
   "source": [
    "### Build KNN and predict the outputs for images from the test data."
   ]
  },
  {
   "cell_type": "code",
   "execution_count": 0,
   "metadata": {
    "colab": {},
    "colab_type": "code",
    "id": "rsd1UALKgm6a"
   },
   "outputs": [],
   "source": [
    "import pandas as pd\n",
    "import numpy as np\n",
    "\n",
    "\n",
    "class KNN:\n",
    "    def __init__(self):\n",
    "        pass\n",
    "\n",
    "    def train(self, x_train, y_train):\n",
    "        \"\"\"\n",
    "        Memorises the training set\n",
    "        Parameters :\n",
    "                 x_train - Training images\n",
    "                 y_train - Labels of training images\n",
    "        Return value : None\n",
    "        \"\"\"\n",
    "        self.x_train = x_train\n",
    "        self.y_train = y_train\n",
    "\n",
    "    def majority(self, label_list):\n",
    "        \"\"\"\n",
    "        Function: Picks the label from the list of label based on majority\n",
    "        count.\n",
    "        Parameters :\n",
    "            label_list - List of K nearest labels\n",
    "        Return value : Label with the majority count\n",
    "        \"\"\"\n",
    "        from collections import Counter\n",
    "        count_list = Counter(label_list)\n",
    "        value, count = count_list.most_common()[0]\n",
    "        return value\n",
    "\n",
    "    def distance_L1(self, x_test, x_train):\n",
    "        \"\"\"\n",
    "        Function : Calculates the distance between the given test data point\n",
    "        and training data point using L1 or Manhattan method\n",
    "        Two numpy matrices at each data point is subtracted from one another\n",
    "        and then taken absolute of it. Then all the values in the resultant\n",
    "        matrix is added to get the single sum value.\n",
    "        Parameters :\n",
    "            x_test - Testing data point\n",
    "            x_train - Training data point\n",
    "        Return value : Distance between the data points\n",
    "        \"\"\"\n",
    "        sum = 0\n",
    "        sum += np.absolute(x_train - x_test)\n",
    "        return sum.sum()\n",
    "      \n",
    "    def distance_L2(self, x_test, x_train):\n",
    "        \"\"\"\n",
    "        Function : Calculates the distance between the given test data point\n",
    "        and training data point using L2 or Euclidean distance.\n",
    "        Two numpy matrices at each data point is subtracted from one another\n",
    "        and then it is squared. Then all the values in the resultant\n",
    "        matrix is added to get the single sum value.\n",
    "        Parameters :\n",
    "            x_test - Testing data point\n",
    "            x_train - Training data point\n",
    "        Return value : Distance between the data points\n",
    "        \"\"\"\n",
    "        sum = 0\n",
    "        for i in range(0, len(x_test)):\n",
    "          sum = sum + np.square(x_test[i] - x_train[i])\n",
    "        return np.sqrt(sum)\n",
    "\n",
    "\n",
    "    def predict(self, x_test, K):\n",
    "        \"\"\"\n",
    "        Function : Predicts the label of the test image by taking the\n",
    "        majority vote label of the given K nearest training images.\n",
    "        Parameters :\n",
    "            x_test - Testing data point\n",
    "            K - Number of nearest neighbours to be considered for\n",
    "            label prediction\n",
    "        Return value : Predicted Label\n",
    "        \"\"\"\n",
    "        min_dist = 2000\n",
    "\n",
    "        # Create a dictionary of all distances and labels\n",
    "        dist_dict = {'distance': [], 'label': []}\n",
    "\n",
    "        # Calculate the distance of all the training point from Testing point\n",
    "        # and store the minimum distances and its corresponding labels in the\n",
    "        # dictionary\n",
    "        for i in range(0, len(x_train) - 1):            \n",
    "            distance = self.distance_L2(x_test, x_train[i])\n",
    "            if distance <= min_dist:\n",
    "                min_dist = distance\n",
    "                dist_dict['distance'].append(min_dist)\n",
    "                dist_dict['label'].append(y_train[i])\n",
    "\n",
    "        # Store the dictionary to Dataframe for the ease of data access and\n",
    "        # manipulation\n",
    "        dist_df = pd.DataFrame(dist_dict)\n",
    "        KNN_dist_list = dist_dict['distance']\n",
    "\n",
    "        # Sort distances in Ascending order\n",
    "        KNN_dist_list.sort()\n",
    "\n",
    "        # Discard the distance values beyond K length\n",
    "        try:\n",
    "            KNN_dist_list = KNN_dist_list[:K]\n",
    "        except Exception:\n",
    "            KNN_dist_list = KNN_dist_list[:]\n",
    "            pass        \n",
    "\n",
    "        # Create a corresponding list of K labels of nearest neighbours\n",
    "        KNN_label_list = []\n",
    "        try:\n",
    "            for i in range(0, K):\n",
    "                KNN_label_list.append((dist_df[\n",
    "                    dist_df['distance'] == KNN_dist_list[i]][\n",
    "                    'label']).to_string(index=False))\n",
    "        except Exception:\n",
    "            pass\n",
    "\n",
    "        # Create a set with unique labels\n",
    "        label_set = set(KNN_label_list)\n",
    "\n",
    "        # If number of unique labels is equal to K, which signifies that all\n",
    "        # the labels of the K nearest neighbours are different,\n",
    "        # then the predicted label can be given by the label of nearest\n",
    "        # neighbour\n",
    "        # else if all the K nearest neighbours have the same label, then the\n",
    "        # label is given as the predicted label\n",
    "        # else return the label with majority count\n",
    "        if len(label_set) == K:\n",
    "            predicted_label = (\n",
    "            dist_df[dist_df['distance'] == KNN_dist_list[0]]['label']).to_string(\n",
    "                index=False)\n",
    "        elif len(label_set) == 1:\n",
    "            predicted_label = KNN_label_list[0]\n",
    "        else:\n",
    "            predicted_label = self.majority(KNN_label_list)\n",
    "        return predicted_label\n",
    "      \n",
    "      \n"
   ]
  },
  {
   "cell_type": "code",
   "execution_count": 0,
   "metadata": {
    "colab": {
     "base_uri": "https://localhost:8080/",
     "height": 369
    },
    "colab_type": "code",
    "id": "JkbmTzFmgm6e",
    "outputId": "edd00bc1-43e2-429d-948f-95fb41d5b385"
   },
   "outputs": [
    {
     "data": {
      "image/png": "[encoded data removed]",
      "text/plain": [
       "<Figure size 144x144 with 1 Axes>"
      ]
     },
     "metadata": {
      "tags": []
     },
     "output_type": "display_data"
    },
    {
     "name": "stdout",
     "output_type": "stream",
     "text": [
      "Predicted Label: 9\n"
     ]
    },
    {
     "data": {
      "image/png": "[encoded data removed]",
      "text/plain": [
       "<Figure size 144x144 with 1 Axes>"
      ]
     },
     "metadata": {
      "tags": []
     },
     "output_type": "display_data"
    },
    {
     "name": "stdout",
     "output_type": "stream",
     "text": [
      "Predicted Label: 1\n",
      "CPU times: user 3min 3s, sys: 348 ms, total: 3min 4s\n",
      "Wall time: 3min 3s\n"
     ]
    }
   ],
   "source": [
    "%%time\n",
    "\n",
    "K = 3\n",
    "\n",
    "# Flattening of 2D matrix of Training image \n",
    "x_tr = []\n",
    "for i in range(32000):\n",
    "    x_tr.append(new_xtrain[i, :].flatten())\n",
    "\n",
    "# Instantiate the class object and call the train method\n",
    "classifier = KNN()\n",
    "classifier.train(x_tr, y_train)\n",
    "\n",
    "\n",
    "# Reshaping matrix of Testing image \n",
    "new_x_test = x_test.reshape((x_test.shape[0], 32, 32))\n",
    "           \n",
    "\n",
    "# Flattening 2D matrix of Testing dataset\n",
    "x_te = []\n",
    "for i in range(15000):\n",
    "    x_te.append(new_x_test[i, :].flatten())\n",
    "\n",
    "        \n",
    "# Create a plot of the testing image and predict its label\n",
    "for i in range(5,7):\n",
    "    fig = plt.figure(figsize=(2, 2))\n",
    "    img = new_x_test[i]\n",
    "    fig.add_subplot(1, 1, 1)\n",
    "    plt.imshow(img, interpolation='nearest', cmap='Blues_r')\n",
    "    plt.show()\n",
    "    print(\"Predicted Label: {}\".format(classifier.predict(x_te[i], K)))\n",
    "\n",
    "    \n",
    "      \n",
    "def accuracy(K,x_te,y_test):\n",
    "    \"\"\"\n",
    "    Function : To determine the accuracy of the predictions provided by KNN\n",
    "    algorithm.\n",
    "    If an image is accurately predicted, the score is added by 1 else 0.\n",
    "    Parameters : None\n",
    "    Return value : Accuracy percentage\n",
    "    \"\"\"\n",
    "    accuracy_score = 1\n",
    "    total_accuracy_score = 0\n",
    "    max_tests = 100\n",
    "    for i in range(0, max_tests):\n",
    "        predicted_label = classifier.predict(x_te[i], K)\n",
    "        if int(predicted_label) == int(y_test[i]):\n",
    "            total_accuracy_score += accuracy_score\n",
    "    print(\"Accuracy score: {}\".format(total_accuracy_score))\n",
    "    accuracy_percentage = (total_accuracy_score * 100) / max_tests\n",
    "    return accuracy_percentage\n",
    "\n",
    "\n",
    "def set_K():\n",
    "  \"\"\"\n",
    "  Function : To determine the value of K for which the model performance is \n",
    "  best on Test set from the odd numbers in the range 0 to 60\n",
    "  Parameter : None\n",
    "  Return : Value of K\n",
    "  \"\"\"\n",
    "  accuracy_list = []\n",
    "  K_list = []\n",
    "  for i in range(1,60,2):    \n",
    "    accuracy_list.append(accuracy(i))\n",
    "    K_list.append(i)\n",
    "  dict_obj = {'accuracy' : accuracy_list}  \n",
    "  df = pd.DataFrame(data=dict_obj,index=K_list)\n",
    "  K = df['accuracy'].idxmax()\n",
    "  return K\n",
    "    \n",
    "# print(\"Highest Value predicted when K = {}\".format(set_K()))\n",
    "      \n",
    "      \n",
    "# Validation set( subset of training set,not used for training the model) to determine model accuracy    \n",
    "# x_validate = []\n",
    "# for i in range(32000,42000):\n",
    "#     x_validate.append(new_xtrain[i,:].flatten())\n",
    "\n",
    "    \n",
    "# y_validate = y_train[32000:42000,]   \n",
    "\n",
    "# print(\"Accuracy with validation dataset:{} %\".format(accuracy(K, x_validate, y_validate)))\n",
    "# print(\"Accuracy percentage with Test dataset :{} %\".format(accuracy(K, x_te, y_test)))"
   ]
  },
  {
   "cell_type": "code",
   "execution_count": 0,
   "metadata": {
    "colab": {
     "base_uri": "https://localhost:8080/",
     "height": 34
    },
    "colab_type": "code",
    "id": "BbRrwt3XppDS",
    "outputId": "fa2c3432-dbbf-4421-fe8c-329d97d3a4d9"
   },
   "outputs": [
    {
     "data": {
      "text/plain": [
       "''"
      ]
     },
     "execution_count": 18,
     "metadata": {
      "tags": []
     },
     "output_type": "execute_result"
    }
   ],
   "source": [
    "_"
   ]
  }
 ],
 "metadata": {
  "colab": {
   "collapsed_sections": [],
   "name": "AnupriyaRamachandran-DLCP-Project1-Milestone1.ipynb",
   "provenance": [],
   "toc_visible": true,
   "version": "0.3.2"
  },
  "kernelspec": {
   "display_name": "Python 3",
   "language": "python",
   "name": "python3"
  },
  "language_info": {
   "codemirror_mode": {
    "name": "ipython",
    "version": 3
   },
   "file_extension": ".py",
   "mimetype": "text/x-python",
   "name": "python",
   "nbconvert_exporter": "python",
   "pygments_lexer": "ipython3",
   "version": "3.7.3"
  }
 },
 "nbformat": 4,
 "nbformat_minor": 1
}
